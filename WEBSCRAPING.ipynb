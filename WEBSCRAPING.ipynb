{
 "cells": [
  {
   "cell_type": "code",
   "execution_count": 2,
   "id": "23eb1177",
   "metadata": {},
   "outputs": [],
   "source": [
    "import requests"
   ]
  },
  {
   "cell_type": "code",
   "execution_count": 4,
   "id": "d228434b",
   "metadata": {},
   "outputs": [],
   "source": [
    "from bs4 import BeautifulSoup"
   ]
  },
  {
   "cell_type": "code",
   "execution_count": 5,
   "id": "3dff3f61",
   "metadata": {},
   "outputs": [],
   "source": [
    "url_link = \"https://en.wikipedia.org/wiki/List_of_states_and_territories_of_the_United_States\""
   ]
  },
  {
   "cell_type": "code",
   "execution_count": 13,
   "id": "5ac4d13b",
   "metadata": {},
   "outputs": [],
   "source": [
    "result = requests.get(url_link).text\n",
    "#rint(result)\n",
    "doc = BeautifulSoup(result, \"html.parser\") #create a beautifulsoup object.\n",
    "#rint(doc.prettify())"
   ]
  },
  {
   "cell_type": "code",
   "execution_count": 11,
   "id": "26b414bd",
   "metadata": {},
   "outputs": [],
   "source": [
    "#find elements by id"
   ]
  },
  {
   "cell_type": "code",
   "execution_count": 15,
   "id": "6d093b45",
   "metadata": {
    "scrolled": false
   },
   "outputs": [],
   "source": [
    "res = doc.find(id =\"content\")"
   ]
  },
  {
   "cell_type": "code",
   "execution_count": 17,
   "id": "3c6aecb8",
   "metadata": {},
   "outputs": [
    {
     "name": "stdout",
     "output_type": "stream",
     "text": [
      "List of states and territories of the United States\n"
     ]
    }
   ],
   "source": [
    "heading = res.find(class_ = \"firstHeading\").text\n",
    "print(heading)"
   ]
  },
  {
   "cell_type": "code",
   "execution_count": 18,
   "id": "11b5e0b7",
   "metadata": {},
   "outputs": [
    {
     "name": "stdout",
     "output_type": "stream",
     "text": [
      "<h2><span class=\"mw-headline\" id=\"States\">States</span><span class=\"mw-editsection\"><span class=\"mw-editsection-bracket\">[</span><a href=\"/w/index.php?title=List_of_states_and_territories_of_the_United_States&amp;action=edit&amp;section=1\" title=\"Edit section: States\">edit</a><span class=\"mw-editsection-bracket\">]</span></span></h2>\n",
      "<h2><span class=\"mw-headline\" id=\"States\">States</span><span class=\"mw-editsection\"><span class=\"mw-editsection-bracket\">[</span><a href=\"/w/index.php?title=List_of_states_and_territories_of_the_United_States&amp;action=edit&amp;section=1\" title=\"Edit section: States\">edit</a><span class=\"mw-editsection-bracket\">]</span></span></h2>\n",
      "<h2><span class=\"mw-headline\" id=\"States\">States</span><span class=\"mw-editsection\"><span class=\"mw-editsection-bracket\">[</span><a href=\"/w/index.php?title=List_of_states_and_territories_of_the_United_States&amp;action=edit&amp;section=1\" title=\"Edit section: States\">edit</a><span class=\"mw-editsection-bracket\">]</span></span></h2>\n",
      "<h2><span class=\"mw-headline\" id=\"States\">States</span><span class=\"mw-editsection\"><span class=\"mw-editsection-bracket\">[</span><a href=\"/w/index.php?title=List_of_states_and_territories_of_the_United_States&amp;action=edit&amp;section=1\" title=\"Edit section: States\">edit</a><span class=\"mw-editsection-bracket\">]</span></span></h2>\n",
      "<h2><span class=\"mw-headline\" id=\"States\">States</span><span class=\"mw-editsection\"><span class=\"mw-editsection-bracket\">[</span><a href=\"/w/index.php?title=List_of_states_and_territories_of_the_United_States&amp;action=edit&amp;section=1\" title=\"Edit section: States\">edit</a><span class=\"mw-editsection-bracket\">]</span></span></h2>\n",
      "<h2><span class=\"mw-headline\" id=\"States\">States</span><span class=\"mw-editsection\"><span class=\"mw-editsection-bracket\">[</span><a href=\"/w/index.php?title=List_of_states_and_territories_of_the_United_States&amp;action=edit&amp;section=1\" title=\"Edit section: States\">edit</a><span class=\"mw-editsection-bracket\">]</span></span></h2>\n",
      "<h2><span class=\"mw-headline\" id=\"States\">States</span><span class=\"mw-editsection\"><span class=\"mw-editsection-bracket\">[</span><a href=\"/w/index.php?title=List_of_states_and_territories_of_the_United_States&amp;action=edit&amp;section=1\" title=\"Edit section: States\">edit</a><span class=\"mw-editsection-bracket\">]</span></span></h2>\n"
     ]
    }
   ],
   "source": [
    "res = doc.find(id =\"content\")\n",
    "for elements in res:\n",
    "    print(res.find(\"h2\"))"
   ]
  },
  {
   "cell_type": "code",
   "execution_count": 19,
   "id": "d3f16a97",
   "metadata": {},
   "outputs": [],
   "source": [
    "# i will try to scrape the states and populations only, this is a task."
   ]
  },
  {
   "cell_type": "code",
   "execution_count": 20,
   "id": "d85531eb",
   "metadata": {},
   "outputs": [],
   "source": [
    "linkurl = \"https://en.wikipedia.org/wiki/List_of_states_and_territories_of_the_United_States\""
   ]
  },
  {
   "cell_type": "code",
   "execution_count": 23,
   "id": "9e2f63f9",
   "metadata": {},
   "outputs": [],
   "source": [
    "urlreq = requests.get(linkurl).text"
   ]
  },
  {
   "cell_type": "code",
   "execution_count": 29,
   "id": "383d59e8",
   "metadata": {},
   "outputs": [],
   "source": [
    "bobject = BeautifulSoup(urlreq, \"html.parser\")"
   ]
  },
  {
   "cell_type": "code",
   "execution_count": 30,
   "id": "b3af7a7c",
   "metadata": {},
   "outputs": [],
   "source": [
    "#find the table and extract the neccesary columns."
   ]
  },
  {
   "cell_type": "code",
   "execution_count": 33,
   "id": "5ca1e755",
   "metadata": {},
   "outputs": [],
   "source": [
    "my_table = bobject.find(\"table\",class_='wikitable sortable plainrowheaders')"
   ]
  },
  {
   "cell_type": "code",
   "execution_count": 41,
   "id": "f536cf06",
   "metadata": {},
   "outputs": [],
   "source": [
    "th_headerlist = my_table.find_all(\"th\")\n",
    "#th_headerlist"
   ]
  },
  {
   "cell_type": "code",
   "execution_count": 39,
   "id": "fc16ae0c",
   "metadata": {},
   "outputs": [
    {
     "name": "stdout",
     "output_type": "stream",
     "text": [
      "['postal abbreviation', '[8]', '[A]', '[10]', '[11]', '[11]', '[11]', None, '[12]', 'Alabama', 'Alaska', 'Arizona', 'Arkansas', 'California', 'Colorado', 'Connecticut', 'Delaware', 'Florida', 'Georgia', 'Hawaii', 'Idaho', 'Illinois', 'Indiana', 'Iowa', 'Kansas', 'Kentucky', '[B]', 'Louisiana', 'Maine', 'Maryland', 'Massachusetts', '[B]', 'Michigan', 'Minnesota', 'Mississippi', 'Missouri', 'Montana', 'Nebraska', 'Nevada', 'New Hampshire', 'New Jersey', 'New Mexico', 'New York', 'North Carolina', 'North Dakota', 'Ohio', 'Oklahoma', 'Oregon', 'Pennsylvania', '[B]', 'Rhode Island', 'South Carolina', 'South Dakota', 'Tennessee', 'Texas', 'Utah', 'Vermont', 'Virginia', '[B]', 'Washington', 'West Virginia', 'Wisconsin', 'Wyoming']\n"
     ]
    }
   ],
   "source": [
    "names = []\n",
    "for elem in th_headerlist:\n",
    "    a_links = elem.find_all(\"a\")\n",
    "    #getting the text inside the < a > tag\n",
    "    for i in a_links:\n",
    "        names.append(i.string)\n",
    "print(names)"
   ]
  },
  {
   "cell_type": "code",
   "execution_count": 42,
   "id": "0d13dec4",
   "metadata": {},
   "outputs": [],
   "source": [
    "#now io have to remove the unwated strings"
   ]
  },
  {
   "cell_type": "code",
   "execution_count": 43,
   "id": "7e748741",
   "metadata": {},
   "outputs": [
    {
     "name": "stdout",
     "output_type": "stream",
     "text": [
      "['Alabama', 'Alaska', 'Arizona', 'Arkansas', 'California', 'Colorado', 'Connecticut', 'Delaware', 'Florida', 'Georgia', 'Hawaii', 'Idaho', 'Illinois', 'Indiana', 'Iowa', 'Kansas', 'Kentucky', 'Louisiana', 'Maine', 'Maryland', 'Massachusetts', 'Michigan', 'Minnesota', 'Mississippi', 'Missouri', 'Montana', 'Nebraska', 'Nevada', 'New Hampshire', 'New Jersey', 'New Mexico', 'New York', 'North Carolina', 'North Dakota', 'Ohio', 'Oklahoma', 'Oregon', 'Pennsylvania', 'Rhode Island', 'South Carolina', 'South Dakota', 'Tennessee', 'Texas', 'Utah', 'Vermont', 'Virginia', 'Washington', 'West Virginia', 'Wisconsin', 'Wyoming']\n"
     ]
    }
   ],
   "source": [
    "new_list = names[9:]\n",
    "#starign from index 9.\n",
    "us_states = []\n",
    "for elements in new_list:\n",
    "    if len(elements) > 3:\n",
    "        us_states.append(elements)\n",
    "print(us_states)"
   ]
  },
  {
   "cell_type": "code",
   "execution_count": 44,
   "id": "2d46efbe",
   "metadata": {},
   "outputs": [
    {
     "data": {
      "text/plain": [
       "50"
      ]
     },
     "execution_count": 44,
     "metadata": {},
     "output_type": "execute_result"
    }
   ],
   "source": [
    "len(us_states)"
   ]
  },
  {
   "cell_type": "code",
   "execution_count": 46,
   "id": "aec0cbe1",
   "metadata": {},
   "outputs": [
    {
     "name": "stdout",
     "output_type": "stream",
     "text": [
      "['5,024,279', '7', '733,391', '1', '7,151,502', '9', '3,011,524', '4', '39,538,223', '52', '5,773,714', '8', '3,605,944', '5', '989,948', '1', '21,538,187', '28', '10,711,908', '14', '1,455,271', '2', '1,839,106', '2', '12,812,508', '17', '6,785,528', '9', '3,190,369', '4', '2,937,880', '4', '4,505,836', '6', '4,657,757', '6', '1,362,359', '2', '6,177,224', '8', '7,029,917', '9', '10,077,331', '13', '5,706,494', '8', '2,961,279', '4', '6,154,913', '8', '1,084,225', '2', '1,961,504', '3', '3,104,614', '4', '1,377,529', '2', '9,288,994', '12', '2,117,522', '3', '20,201,249', '26', '10,439,388', '14', '779,094', '1', '11,799,448', '15', '3,959,353', '5', '4,237,256', '6', '13,002,700', '17', '1,097,379', '2', '5,118,425', '7', '886,667', '1', '6,910,840', '9', '29,145,505', '38', '3,271,616', '4', '643,077', '1', '8,631,393', '11', '7,705,281', '10', '1,793,716', '2', '5,893,718', '8', '576,851', '1']\n"
     ]
    }
   ],
   "source": [
    "#i have to do the same for the population column\n",
    "div = my_table.find_all(\"div\")\n",
    "pop = []\n",
    "for i in div:\n",
    "    pop.append(i.string)\n",
    "print(pop)"
   ]
  },
  {
   "cell_type": "code",
   "execution_count": 48,
   "id": "60120bce",
   "metadata": {},
   "outputs": [
    {
     "name": "stdout",
     "output_type": "stream",
     "text": [
      "['5,024,279', '733,391', '7,151,502', '3,011,524', '39,538,223', '5,773,714', '3,605,944', '989,948', '21,538,187', '10,711,908', '1,455,271', '1,839,106', '12,812,508', '6,785,528', '3,190,369', '2,937,880', '4,505,836', '4,657,757', '1,362,359', '6,177,224', '7,029,917', '10,077,331', '5,706,494', '2,961,279', '6,154,913', '1,084,225', '1,961,504', '3,104,614', '1,377,529', '9,288,994', '2,117,522', '20,201,249', '10,439,388', '779,094', '11,799,448', '3,959,353', '4,237,256', '13,002,700', '1,097,379', '5,118,425', '886,667', '6,910,840', '29,145,505', '3,271,616', '643,077', '8,631,393', '7,705,281', '1,793,716', '5,893,718', '576,851']\n"
     ]
    }
   ],
   "source": [
    "population = []\n",
    "for i in pop:\n",
    "    if len(i)>3:\n",
    "        population.append(i)\n",
    "print(population)"
   ]
  },
  {
   "cell_type": "code",
   "execution_count": 49,
   "id": "650335ef",
   "metadata": {},
   "outputs": [
    {
     "data": {
      "text/plain": [
       "50"
      ]
     },
     "execution_count": 49,
     "metadata": {},
     "output_type": "execute_result"
    }
   ],
   "source": [
    "len(population)"
   ]
  },
  {
   "cell_type": "code",
   "execution_count": 50,
   "id": "04bb01db",
   "metadata": {},
   "outputs": [],
   "source": [
    "# now create a dataframe with the extracted informations from the website"
   ]
  },
  {
   "cell_type": "code",
   "execution_count": 52,
   "id": "d3be7f81",
   "metadata": {},
   "outputs": [],
   "source": [
    "import pandas as pd"
   ]
  },
  {
   "cell_type": "code",
   "execution_count": 53,
   "id": "387c2e27",
   "metadata": {},
   "outputs": [
    {
     "name": "stdout",
     "output_type": "stream",
     "text": [
      "    us states  population\n",
      "0     Alabama   5,024,279\n",
      "1      Alaska     733,391\n",
      "2     Arizona   7,151,502\n",
      "3    Arkansas   3,011,524\n",
      "4  California  39,538,223\n"
     ]
    }
   ],
   "source": [
    "df = pd.DataFrame()\n",
    "df[\"us states\"] = us_states\n",
    "df[\"population\"] = population\n",
    "print(df.head())"
   ]
  },
  {
   "cell_type": "code",
   "execution_count": null,
   "id": "c2135c50",
   "metadata": {},
   "outputs": [],
   "source": []
  }
 ],
 "metadata": {
  "kernelspec": {
   "display_name": "Python 3",
   "language": "python",
   "name": "python3"
  },
  "language_info": {
   "codemirror_mode": {
    "name": "ipython",
    "version": 3
   },
   "file_extension": ".py",
   "mimetype": "text/x-python",
   "name": "python",
   "nbconvert_exporter": "python",
   "pygments_lexer": "ipython3",
   "version": "3.8.8"
  }
 },
 "nbformat": 4,
 "nbformat_minor": 5
}
